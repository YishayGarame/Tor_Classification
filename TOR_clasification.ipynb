{
 "cells": [
  {
   "cell_type": "markdown",
   "metadata": {},
   "source": [
    "#  TOR Traffic Characterization "
   ]
  },
  {
   "cell_type": "markdown",
   "metadata": {},
   "source": [
    "**----------------------------------------------------------------------------------------------------------------**"
   ]
  },
  {
   "cell_type": "markdown",
   "metadata": {},
   "source": [
    "**Gal Bar**\n",
    "\n",
    "**Yishay Garame**\n",
    "\n",
    "**Naor Maoz**"
   ]
  },
  {
   "cell_type": "markdown",
   "metadata": {},
   "source": [
    "**----------------------------------------------------------------------------------------------------------------**"
   ]
  },
  {
   "cell_type": "markdown",
   "metadata": {},
   "source": [
    "# Data Exploration"
   ]
  },
  {
   "cell_type": "markdown",
   "metadata": {
    "id": "3EhoAINi7MkP"
   },
   "source": [
    "**Load The Dataset**"
   ]
  },
  {
   "cell_type": "code",
   "execution_count": 17,
   "metadata": {
    "colab": {
     "base_uri": "https://localhost:8080/",
     "height": 473
    },
    "id": "4Y8cQs_a7LMT",
    "outputId": "3d7b56ae-25c0-416a-ef9f-517630b9bf0e",
    "scrolled": true
   },
   "outputs": [
    {
     "data": {
      "text/html": [
       "<div>\n",
       "<style scoped>\n",
       "    .dataframe tbody tr th:only-of-type {\n",
       "        vertical-align: middle;\n",
       "    }\n",
       "\n",
       "    .dataframe tbody tr th {\n",
       "        vertical-align: top;\n",
       "    }\n",
       "\n",
       "    .dataframe thead th {\n",
       "        text-align: right;\n",
       "    }\n",
       "</style>\n",
       "<table border=\"1\" class=\"dataframe\">\n",
       "  <thead>\n",
       "    <tr style=\"text-align: right;\">\n",
       "      <th></th>\n",
       "      <th>Source IP</th>\n",
       "      <th>Source Port</th>\n",
       "      <th>Destination IP</th>\n",
       "      <th>Destination Port</th>\n",
       "      <th>Protocol</th>\n",
       "      <th>Flow Duration</th>\n",
       "      <th>Flow Bytes/s</th>\n",
       "      <th>Flow Packets/s</th>\n",
       "      <th>Flow IAT Mean</th>\n",
       "      <th>Flow IAT Std</th>\n",
       "      <th>...</th>\n",
       "      <th>Bwd IAT Min</th>\n",
       "      <th>Active Mean</th>\n",
       "      <th>Active Std</th>\n",
       "      <th>Active Max</th>\n",
       "      <th>Active Min</th>\n",
       "      <th>Idle Mean</th>\n",
       "      <th>Idle Std</th>\n",
       "      <th>Idle Max</th>\n",
       "      <th>Idle Min</th>\n",
       "      <th>label</th>\n",
       "    </tr>\n",
       "  </thead>\n",
       "  <tbody>\n",
       "    <tr>\n",
       "      <th>0</th>\n",
       "      <td>10.0.2.15</td>\n",
       "      <td>57188</td>\n",
       "      <td>82.161.239.177</td>\n",
       "      <td>110</td>\n",
       "      <td>6</td>\n",
       "      <td>7248168</td>\n",
       "      <td>2.112603e+04</td>\n",
       "      <td>29.110804</td>\n",
       "      <td>34515.085714</td>\n",
       "      <td>2.738693e+05</td>\n",
       "      <td>...</td>\n",
       "      <td>7</td>\n",
       "      <td>0</td>\n",
       "      <td>0</td>\n",
       "      <td>0</td>\n",
       "      <td>0</td>\n",
       "      <td>0</td>\n",
       "      <td>0</td>\n",
       "      <td>0</td>\n",
       "      <td>0</td>\n",
       "      <td>AUDIO</td>\n",
       "    </tr>\n",
       "    <tr>\n",
       "      <th>1</th>\n",
       "      <td>10.0.2.15</td>\n",
       "      <td>57188</td>\n",
       "      <td>82.161.239.177</td>\n",
       "      <td>110</td>\n",
       "      <td>6</td>\n",
       "      <td>5157723</td>\n",
       "      <td>1.052790e+03</td>\n",
       "      <td>3.683796</td>\n",
       "      <td>286540.166667</td>\n",
       "      <td>8.788385e+05</td>\n",
       "      <td>...</td>\n",
       "      <td>451</td>\n",
       "      <td>0</td>\n",
       "      <td>0</td>\n",
       "      <td>0</td>\n",
       "      <td>0</td>\n",
       "      <td>0</td>\n",
       "      <td>0</td>\n",
       "      <td>0</td>\n",
       "      <td>0</td>\n",
       "      <td>AUDIO</td>\n",
       "    </tr>\n",
       "    <tr>\n",
       "      <th>2</th>\n",
       "      <td>10.0.2.15</td>\n",
       "      <td>57188</td>\n",
       "      <td>82.161.239.177</td>\n",
       "      <td>110</td>\n",
       "      <td>6</td>\n",
       "      <td>41</td>\n",
       "      <td>1.324390e+07</td>\n",
       "      <td>48780.487805</td>\n",
       "      <td>41.000000</td>\n",
       "      <td>0.000000e+00</td>\n",
       "      <td>...</td>\n",
       "      <td>0</td>\n",
       "      <td>0</td>\n",
       "      <td>0</td>\n",
       "      <td>0</td>\n",
       "      <td>0</td>\n",
       "      <td>0</td>\n",
       "      <td>0</td>\n",
       "      <td>0</td>\n",
       "      <td>0</td>\n",
       "      <td>AUDIO</td>\n",
       "    </tr>\n",
       "    <tr>\n",
       "      <th>3</th>\n",
       "      <td>10.0.2.15</td>\n",
       "      <td>57188</td>\n",
       "      <td>82.161.239.177</td>\n",
       "      <td>110</td>\n",
       "      <td>6</td>\n",
       "      <td>9543565</td>\n",
       "      <td>6.373855e+04</td>\n",
       "      <td>83.930900</td>\n",
       "      <td>11929.456250</td>\n",
       "      <td>9.007219e+04</td>\n",
       "      <td>...</td>\n",
       "      <td>5</td>\n",
       "      <td>0</td>\n",
       "      <td>0</td>\n",
       "      <td>0</td>\n",
       "      <td>0</td>\n",
       "      <td>0</td>\n",
       "      <td>0</td>\n",
       "      <td>0</td>\n",
       "      <td>0</td>\n",
       "      <td>AUDIO</td>\n",
       "    </tr>\n",
       "    <tr>\n",
       "      <th>4</th>\n",
       "      <td>10.0.2.15</td>\n",
       "      <td>57188</td>\n",
       "      <td>82.161.239.177</td>\n",
       "      <td>110</td>\n",
       "      <td>6</td>\n",
       "      <td>9987537</td>\n",
       "      <td>1.996166e+05</td>\n",
       "      <td>245.806348</td>\n",
       "      <td>4069.900978</td>\n",
       "      <td>2.036573e+04</td>\n",
       "      <td>...</td>\n",
       "      <td>5</td>\n",
       "      <td>0</td>\n",
       "      <td>0</td>\n",
       "      <td>0</td>\n",
       "      <td>0</td>\n",
       "      <td>0</td>\n",
       "      <td>0</td>\n",
       "      <td>0</td>\n",
       "      <td>0</td>\n",
       "      <td>AUDIO</td>\n",
       "    </tr>\n",
       "    <tr>\n",
       "      <th>...</th>\n",
       "      <td>...</td>\n",
       "      <td>...</td>\n",
       "      <td>...</td>\n",
       "      <td>...</td>\n",
       "      <td>...</td>\n",
       "      <td>...</td>\n",
       "      <td>...</td>\n",
       "      <td>...</td>\n",
       "      <td>...</td>\n",
       "      <td>...</td>\n",
       "      <td>...</td>\n",
       "      <td>...</td>\n",
       "      <td>...</td>\n",
       "      <td>...</td>\n",
       "      <td>...</td>\n",
       "      <td>...</td>\n",
       "      <td>...</td>\n",
       "      <td>...</td>\n",
       "      <td>...</td>\n",
       "      <td>...</td>\n",
       "      <td>...</td>\n",
       "    </tr>\n",
       "    <tr>\n",
       "      <th>8039</th>\n",
       "      <td>82.161.239.177</td>\n",
       "      <td>110</td>\n",
       "      <td>10.0.2.15</td>\n",
       "      <td>47257</td>\n",
       "      <td>6</td>\n",
       "      <td>7413083</td>\n",
       "      <td>2.991468e+03</td>\n",
       "      <td>8.633385</td>\n",
       "      <td>117667.984127</td>\n",
       "      <td>6.261953e+05</td>\n",
       "      <td>...</td>\n",
       "      <td>217</td>\n",
       "      <td>0</td>\n",
       "      <td>0</td>\n",
       "      <td>0</td>\n",
       "      <td>0</td>\n",
       "      <td>0</td>\n",
       "      <td>0</td>\n",
       "      <td>0</td>\n",
       "      <td>0</td>\n",
       "      <td>CHAT</td>\n",
       "    </tr>\n",
       "    <tr>\n",
       "      <th>8040</th>\n",
       "      <td>82.161.239.177</td>\n",
       "      <td>110</td>\n",
       "      <td>10.0.2.15</td>\n",
       "      <td>47257</td>\n",
       "      <td>6</td>\n",
       "      <td>9807892</td>\n",
       "      <td>6.089994e+02</td>\n",
       "      <td>2.039174</td>\n",
       "      <td>516204.842105</td>\n",
       "      <td>1.971833e+06</td>\n",
       "      <td>...</td>\n",
       "      <td>1134</td>\n",
       "      <td>1420</td>\n",
       "      <td>0</td>\n",
       "      <td>1420</td>\n",
       "      <td>1420</td>\n",
       "      <td>8646908</td>\n",
       "      <td>0</td>\n",
       "      <td>8646908</td>\n",
       "      <td>8646908</td>\n",
       "      <td>CHAT</td>\n",
       "    </tr>\n",
       "    <tr>\n",
       "      <th>8041</th>\n",
       "      <td>82.161.239.177</td>\n",
       "      <td>110</td>\n",
       "      <td>10.0.2.15</td>\n",
       "      <td>47257</td>\n",
       "      <td>6</td>\n",
       "      <td>9979796</td>\n",
       "      <td>9.793787e+02</td>\n",
       "      <td>3.306681</td>\n",
       "      <td>311868.625000</td>\n",
       "      <td>1.289556e+06</td>\n",
       "      <td>...</td>\n",
       "      <td>371</td>\n",
       "      <td>2241210</td>\n",
       "      <td>0</td>\n",
       "      <td>2241210</td>\n",
       "      <td>2241210</td>\n",
       "      <td>7341693</td>\n",
       "      <td>0</td>\n",
       "      <td>7341693</td>\n",
       "      <td>7341693</td>\n",
       "      <td>CHAT</td>\n",
       "    </tr>\n",
       "    <tr>\n",
       "      <th>8042</th>\n",
       "      <td>82.161.239.177</td>\n",
       "      <td>110</td>\n",
       "      <td>10.0.2.15</td>\n",
       "      <td>47257</td>\n",
       "      <td>6</td>\n",
       "      <td>1327</td>\n",
       "      <td>8.183873e+05</td>\n",
       "      <td>2260.738508</td>\n",
       "      <td>663.500000</td>\n",
       "      <td>5.861915e+02</td>\n",
       "      <td>...</td>\n",
       "      <td>0</td>\n",
       "      <td>0</td>\n",
       "      <td>0</td>\n",
       "      <td>0</td>\n",
       "      <td>0</td>\n",
       "      <td>0</td>\n",
       "      <td>0</td>\n",
       "      <td>0</td>\n",
       "      <td>0</td>\n",
       "      <td>CHAT</td>\n",
       "    </tr>\n",
       "    <tr>\n",
       "      <th>8043</th>\n",
       "      <td>82.161.239.177</td>\n",
       "      <td>110</td>\n",
       "      <td>10.0.2.15</td>\n",
       "      <td>47257</td>\n",
       "      <td>6</td>\n",
       "      <td>5169875</td>\n",
       "      <td>3.670495e+03</td>\n",
       "      <td>10.831983</td>\n",
       "      <td>93997.727273</td>\n",
       "      <td>3.816156e+05</td>\n",
       "      <td>...</td>\n",
       "      <td>346</td>\n",
       "      <td>0</td>\n",
       "      <td>0</td>\n",
       "      <td>0</td>\n",
       "      <td>0</td>\n",
       "      <td>0</td>\n",
       "      <td>0</td>\n",
       "      <td>0</td>\n",
       "      <td>0</td>\n",
       "      <td>CHAT</td>\n",
       "    </tr>\n",
       "  </tbody>\n",
       "</table>\n",
       "<p>8044 rows × 29 columns</p>\n",
       "</div>"
      ],
      "text/plain": [
       "           Source IP   Source Port  Destination IP   Destination Port  \\\n",
       "0          10.0.2.15         57188  82.161.239.177                110   \n",
       "1          10.0.2.15         57188  82.161.239.177                110   \n",
       "2          10.0.2.15         57188  82.161.239.177                110   \n",
       "3          10.0.2.15         57188  82.161.239.177                110   \n",
       "4          10.0.2.15         57188  82.161.239.177                110   \n",
       "...              ...           ...             ...                ...   \n",
       "8039  82.161.239.177           110       10.0.2.15              47257   \n",
       "8040  82.161.239.177           110       10.0.2.15              47257   \n",
       "8041  82.161.239.177           110       10.0.2.15              47257   \n",
       "8042  82.161.239.177           110       10.0.2.15              47257   \n",
       "8043  82.161.239.177           110       10.0.2.15              47257   \n",
       "\n",
       "       Protocol   Flow Duration   Flow Bytes/s   Flow Packets/s  \\\n",
       "0             6         7248168   2.112603e+04        29.110804   \n",
       "1             6         5157723   1.052790e+03         3.683796   \n",
       "2             6              41   1.324390e+07     48780.487805   \n",
       "3             6         9543565   6.373855e+04        83.930900   \n",
       "4             6         9987537   1.996166e+05       245.806348   \n",
       "...         ...             ...            ...              ...   \n",
       "8039          6         7413083   2.991468e+03         8.633385   \n",
       "8040          6         9807892   6.089994e+02         2.039174   \n",
       "8041          6         9979796   9.793787e+02         3.306681   \n",
       "8042          6            1327   8.183873e+05      2260.738508   \n",
       "8043          6         5169875   3.670495e+03        10.831983   \n",
       "\n",
       "       Flow IAT Mean   Flow IAT Std  ...   Bwd IAT Min  Active Mean  \\\n",
       "0       34515.085714   2.738693e+05  ...             7            0   \n",
       "1      286540.166667   8.788385e+05  ...           451            0   \n",
       "2          41.000000   0.000000e+00  ...             0            0   \n",
       "3       11929.456250   9.007219e+04  ...             5            0   \n",
       "4        4069.900978   2.036573e+04  ...             5            0   \n",
       "...              ...            ...  ...           ...          ...   \n",
       "8039   117667.984127   6.261953e+05  ...           217            0   \n",
       "8040   516204.842105   1.971833e+06  ...          1134         1420   \n",
       "8041   311868.625000   1.289556e+06  ...           371      2241210   \n",
       "8042      663.500000   5.861915e+02  ...             0            0   \n",
       "8043    93997.727273   3.816156e+05  ...           346            0   \n",
       "\n",
       "       Active Std   Active Max   Active Min  Idle Mean   Idle Std   Idle Max  \\\n",
       "0               0            0            0          0          0          0   \n",
       "1               0            0            0          0          0          0   \n",
       "2               0            0            0          0          0          0   \n",
       "3               0            0            0          0          0          0   \n",
       "4               0            0            0          0          0          0   \n",
       "...           ...          ...          ...        ...        ...        ...   \n",
       "8039            0            0            0          0          0          0   \n",
       "8040            0         1420         1420    8646908          0    8646908   \n",
       "8041            0      2241210      2241210    7341693          0    7341693   \n",
       "8042            0            0            0          0          0          0   \n",
       "8043            0            0            0          0          0          0   \n",
       "\n",
       "       Idle Min  label  \n",
       "0             0  AUDIO  \n",
       "1             0  AUDIO  \n",
       "2             0  AUDIO  \n",
       "3             0  AUDIO  \n",
       "4             0  AUDIO  \n",
       "...         ...    ...  \n",
       "8039          0   CHAT  \n",
       "8040    8646908   CHAT  \n",
       "8041    7341693   CHAT  \n",
       "8042          0   CHAT  \n",
       "8043          0   CHAT  \n",
       "\n",
       "[8044 rows x 29 columns]"
      ]
     },
     "execution_count": 17,
     "metadata": {},
     "output_type": "execute_result"
    }
   ],
   "source": [
    "#loading data through pandas \n",
    "import pandas as pd\n",
    "all_data_matrix = pd.read_csv(\"TimeBasedFeatures-10s-Layer2 (1).csv\")\n",
    "all_data_matrix"
   ]
  },
  {
   "cell_type": "code",
   "execution_count": 18,
   "metadata": {
    "colab": {
     "base_uri": "https://localhost:8080/"
    },
    "id": "HovBZ9dmftG_",
    "outputId": "098c6e96-cab2-4a5b-a755-647bd42251e2"
   },
   "outputs": [
    {
     "name": "stdout",
     "output_type": "stream",
     "text": [
      "<class 'pandas.core.frame.DataFrame'>\n",
      "RangeIndex: 8044 entries, 0 to 8043\n",
      "Data columns (total 29 columns):\n",
      " #   Column             Non-Null Count  Dtype  \n",
      "---  ------             --------------  -----  \n",
      " 0   Source IP          8044 non-null   object \n",
      " 1    Source Port       8044 non-null   int64  \n",
      " 2    Destination IP    8044 non-null   object \n",
      " 3    Destination Port  8044 non-null   int64  \n",
      " 4    Protocol          8044 non-null   int64  \n",
      " 5    Flow Duration     8044 non-null   int64  \n",
      " 6    Flow Bytes/s      8044 non-null   float64\n",
      " 7    Flow Packets/s    8044 non-null   float64\n",
      " 8    Flow IAT Mean     8044 non-null   float64\n",
      " 9    Flow IAT Std      8044 non-null   float64\n",
      " 10   Flow IAT Max      8044 non-null   int64  \n",
      " 11   Flow IAT Min      8044 non-null   int64  \n",
      " 12  Fwd IAT Mean       8044 non-null   float64\n",
      " 13   Fwd IAT Std       8044 non-null   float64\n",
      " 14   Fwd IAT Max       8044 non-null   int64  \n",
      " 15   Fwd IAT Min       8044 non-null   int64  \n",
      " 16  Bwd IAT Mean       8044 non-null   float64\n",
      " 17   Bwd IAT Std       8044 non-null   float64\n",
      " 18   Bwd IAT Max       8044 non-null   int64  \n",
      " 19   Bwd IAT Min       8044 non-null   int64  \n",
      " 20  Active Mean        8044 non-null   int64  \n",
      " 21   Active Std        8044 non-null   int64  \n",
      " 22   Active Max        8044 non-null   int64  \n",
      " 23   Active Min        8044 non-null   int64  \n",
      " 24  Idle Mean          8044 non-null   int64  \n",
      " 25   Idle Std          8044 non-null   int64  \n",
      " 26   Idle Max          8044 non-null   int64  \n",
      " 27   Idle Min          8044 non-null   int64  \n",
      " 28  label              8044 non-null   object \n",
      "dtypes: float64(8), int64(18), object(3)\n",
      "memory usage: 1.8+ MB\n"
     ]
    }
   ],
   "source": [
    "#printing summary of dataframe using info function of pandas\n",
    "all_data_matrix.info()"
   ]
  },
  {
   "cell_type": "code",
   "execution_count": 19,
   "metadata": {
    "colab": {
     "base_uri": "https://localhost:8080/",
     "height": 258
    },
    "id": "juAEVyvcf26j",
    "outputId": "92ba06c0-24dc-4d16-e8df-03d048eb4508"
   },
   "outputs": [
    {
     "data": {
      "text/html": [
       "<div>\n",
       "<style scoped>\n",
       "    .dataframe tbody tr th:only-of-type {\n",
       "        vertical-align: middle;\n",
       "    }\n",
       "\n",
       "    .dataframe tbody tr th {\n",
       "        vertical-align: top;\n",
       "    }\n",
       "\n",
       "    .dataframe thead th {\n",
       "        text-align: right;\n",
       "    }\n",
       "</style>\n",
       "<table border=\"1\" class=\"dataframe\">\n",
       "  <thead>\n",
       "    <tr style=\"text-align: right;\">\n",
       "      <th></th>\n",
       "      <th>Source IP</th>\n",
       "      <th>Source Port</th>\n",
       "      <th>Destination IP</th>\n",
       "      <th>Destination Port</th>\n",
       "      <th>Protocol</th>\n",
       "      <th>Flow Duration</th>\n",
       "      <th>Flow Bytes/s</th>\n",
       "      <th>Flow Packets/s</th>\n",
       "      <th>Flow IAT Mean</th>\n",
       "      <th>Flow IAT Std</th>\n",
       "      <th>...</th>\n",
       "      <th>Bwd IAT Min</th>\n",
       "      <th>Active Mean</th>\n",
       "      <th>Active Std</th>\n",
       "      <th>Active Max</th>\n",
       "      <th>Active Min</th>\n",
       "      <th>Idle Mean</th>\n",
       "      <th>Idle Std</th>\n",
       "      <th>Idle Max</th>\n",
       "      <th>Idle Min</th>\n",
       "      <th>label</th>\n",
       "    </tr>\n",
       "  </thead>\n",
       "  <tbody>\n",
       "    <tr>\n",
       "      <th>0</th>\n",
       "      <td>10.0.2.15</td>\n",
       "      <td>57188</td>\n",
       "      <td>82.161.239.177</td>\n",
       "      <td>110</td>\n",
       "      <td>6</td>\n",
       "      <td>7248168</td>\n",
       "      <td>2.112603e+04</td>\n",
       "      <td>29.110804</td>\n",
       "      <td>34515.085714</td>\n",
       "      <td>273869.262513</td>\n",
       "      <td>...</td>\n",
       "      <td>7</td>\n",
       "      <td>0</td>\n",
       "      <td>0</td>\n",
       "      <td>0</td>\n",
       "      <td>0</td>\n",
       "      <td>0</td>\n",
       "      <td>0</td>\n",
       "      <td>0</td>\n",
       "      <td>0</td>\n",
       "      <td>AUDIO</td>\n",
       "    </tr>\n",
       "    <tr>\n",
       "      <th>1</th>\n",
       "      <td>10.0.2.15</td>\n",
       "      <td>57188</td>\n",
       "      <td>82.161.239.177</td>\n",
       "      <td>110</td>\n",
       "      <td>6</td>\n",
       "      <td>5157723</td>\n",
       "      <td>1.052790e+03</td>\n",
       "      <td>3.683796</td>\n",
       "      <td>286540.166667</td>\n",
       "      <td>878838.525555</td>\n",
       "      <td>...</td>\n",
       "      <td>451</td>\n",
       "      <td>0</td>\n",
       "      <td>0</td>\n",
       "      <td>0</td>\n",
       "      <td>0</td>\n",
       "      <td>0</td>\n",
       "      <td>0</td>\n",
       "      <td>0</td>\n",
       "      <td>0</td>\n",
       "      <td>AUDIO</td>\n",
       "    </tr>\n",
       "    <tr>\n",
       "      <th>2</th>\n",
       "      <td>10.0.2.15</td>\n",
       "      <td>57188</td>\n",
       "      <td>82.161.239.177</td>\n",
       "      <td>110</td>\n",
       "      <td>6</td>\n",
       "      <td>41</td>\n",
       "      <td>1.324390e+07</td>\n",
       "      <td>48780.487805</td>\n",
       "      <td>41.000000</td>\n",
       "      <td>0.000000</td>\n",
       "      <td>...</td>\n",
       "      <td>0</td>\n",
       "      <td>0</td>\n",
       "      <td>0</td>\n",
       "      <td>0</td>\n",
       "      <td>0</td>\n",
       "      <td>0</td>\n",
       "      <td>0</td>\n",
       "      <td>0</td>\n",
       "      <td>0</td>\n",
       "      <td>AUDIO</td>\n",
       "    </tr>\n",
       "    <tr>\n",
       "      <th>3</th>\n",
       "      <td>10.0.2.15</td>\n",
       "      <td>57188</td>\n",
       "      <td>82.161.239.177</td>\n",
       "      <td>110</td>\n",
       "      <td>6</td>\n",
       "      <td>9543565</td>\n",
       "      <td>6.373855e+04</td>\n",
       "      <td>83.930900</td>\n",
       "      <td>11929.456250</td>\n",
       "      <td>90072.192523</td>\n",
       "      <td>...</td>\n",
       "      <td>5</td>\n",
       "      <td>0</td>\n",
       "      <td>0</td>\n",
       "      <td>0</td>\n",
       "      <td>0</td>\n",
       "      <td>0</td>\n",
       "      <td>0</td>\n",
       "      <td>0</td>\n",
       "      <td>0</td>\n",
       "      <td>AUDIO</td>\n",
       "    </tr>\n",
       "    <tr>\n",
       "      <th>4</th>\n",
       "      <td>10.0.2.15</td>\n",
       "      <td>57188</td>\n",
       "      <td>82.161.239.177</td>\n",
       "      <td>110</td>\n",
       "      <td>6</td>\n",
       "      <td>9987537</td>\n",
       "      <td>1.996166e+05</td>\n",
       "      <td>245.806348</td>\n",
       "      <td>4069.900978</td>\n",
       "      <td>20365.733229</td>\n",
       "      <td>...</td>\n",
       "      <td>5</td>\n",
       "      <td>0</td>\n",
       "      <td>0</td>\n",
       "      <td>0</td>\n",
       "      <td>0</td>\n",
       "      <td>0</td>\n",
       "      <td>0</td>\n",
       "      <td>0</td>\n",
       "      <td>0</td>\n",
       "      <td>AUDIO</td>\n",
       "    </tr>\n",
       "  </tbody>\n",
       "</table>\n",
       "<p>5 rows × 29 columns</p>\n",
       "</div>"
      ],
      "text/plain": [
       "   Source IP   Source Port  Destination IP   Destination Port   Protocol  \\\n",
       "0  10.0.2.15         57188  82.161.239.177                110          6   \n",
       "1  10.0.2.15         57188  82.161.239.177                110          6   \n",
       "2  10.0.2.15         57188  82.161.239.177                110          6   \n",
       "3  10.0.2.15         57188  82.161.239.177                110          6   \n",
       "4  10.0.2.15         57188  82.161.239.177                110          6   \n",
       "\n",
       "    Flow Duration   Flow Bytes/s   Flow Packets/s   Flow IAT Mean  \\\n",
       "0         7248168   2.112603e+04        29.110804    34515.085714   \n",
       "1         5157723   1.052790e+03         3.683796   286540.166667   \n",
       "2              41   1.324390e+07     48780.487805       41.000000   \n",
       "3         9543565   6.373855e+04        83.930900    11929.456250   \n",
       "4         9987537   1.996166e+05       245.806348     4069.900978   \n",
       "\n",
       "    Flow IAT Std  ...   Bwd IAT Min  Active Mean   Active Std   Active Max  \\\n",
       "0  273869.262513  ...             7            0            0            0   \n",
       "1  878838.525555  ...           451            0            0            0   \n",
       "2       0.000000  ...             0            0            0            0   \n",
       "3   90072.192523  ...             5            0            0            0   \n",
       "4   20365.733229  ...             5            0            0            0   \n",
       "\n",
       "    Active Min  Idle Mean   Idle Std   Idle Max   Idle Min  label  \n",
       "0            0          0          0          0          0  AUDIO  \n",
       "1            0          0          0          0          0  AUDIO  \n",
       "2            0          0          0          0          0  AUDIO  \n",
       "3            0          0          0          0          0  AUDIO  \n",
       "4            0          0          0          0          0  AUDIO  \n",
       "\n",
       "[5 rows x 29 columns]"
      ]
     },
     "execution_count": 19,
     "metadata": {},
     "output_type": "execute_result"
    }
   ],
   "source": [
    "#Print first 5 rows of data\n",
    "all_data_matrix.head(5)"
   ]
  },
  {
   "cell_type": "markdown",
   "metadata": {
    "id": "VCIQjsvJp7TB"
   },
   "source": [
    "# Labels#"
   ]
  },
  {
   "cell_type": "code",
   "execution_count": 20,
   "metadata": {
    "colab": {
     "base_uri": "https://localhost:8080/"
    },
    "id": "ChyD2WQzjsSt",
    "outputId": "d480aa59-5230-406f-e453-9968f50b3e95"
   },
   "outputs": [
    {
     "data": {
      "text/plain": [
       "array(['AUDIO', 'BROWSING', 'CHAT', 'FILE-TRANSFER', 'MAIL', 'P2P',\n",
       "       'VIDEO', 'VOIP'], dtype=object)"
      ]
     },
     "execution_count": 20,
     "metadata": {},
     "output_type": "execute_result"
    }
   ],
   "source": [
    "#Printing the unique value of target variable named as 'label'\n",
    "all_data_matrix['label'].unique()"
   ]
  },
  {
   "cell_type": "markdown",
   "metadata": {},
   "source": [
    "**Distribution of the different labels**"
   ]
  },
  {
   "cell_type": "code",
   "execution_count": 21,
   "metadata": {
    "colab": {
     "base_uri": "https://localhost:8080/",
     "height": 419
    },
    "id": "sD4xcIMgi4G5",
    "outputId": "85f14fb5-0c0d-40b7-d22c-627b32ff5aff"
   },
   "outputs": [
    {
     "data": {
      "image/png": "[encoded data removed]",
      "text/plain": [
       "<Figure size 1152x432 with 1 Axes>"
      ]
     },
     "metadata": {
      "needs_background": "light"
     },
     "output_type": "display_data"
    }
   ],
   "source": [
    "# using seaborn.countplot() method to Show the counts of observations in our target variable using bars.\n",
    "import seaborn as sns\n",
    "import matplotlib.pyplot as plt\n",
    "plt.figure(figsize=(16, 6))\n",
    "plt.title('Labels')\n",
    "ax = sns.countplot(all_data_matrix['label'],label=\"Count\") \n",
    "      # M = 212, B = 357"
   ]
  },
  {
   "cell_type": "code",
   "execution_count": 22,
   "metadata": {
    "colab": {
     "base_uri": "https://localhost:8080/",
     "height": 334
    },
    "id": "4OGB8pDanCdZ",
    "outputId": "cfc7d447-d9d1-4d2d-cac4-da0e9973baa7"
   },
   "outputs": [
    {
     "data": {
      "text/html": [
       "<div>\n",
       "<style scoped>\n",
       "    .dataframe tbody tr th:only-of-type {\n",
       "        vertical-align: middle;\n",
       "    }\n",
       "\n",
       "    .dataframe tbody tr th {\n",
       "        vertical-align: top;\n",
       "    }\n",
       "\n",
       "    .dataframe thead th {\n",
       "        text-align: right;\n",
       "    }\n",
       "</style>\n",
       "<table border=\"1\" class=\"dataframe\">\n",
       "  <thead>\n",
       "    <tr style=\"text-align: right;\">\n",
       "      <th></th>\n",
       "      <th>Source Port</th>\n",
       "      <th>Destination Port</th>\n",
       "      <th>Protocol</th>\n",
       "      <th>Flow Duration</th>\n",
       "      <th>Flow Bytes/s</th>\n",
       "      <th>Flow Packets/s</th>\n",
       "      <th>Flow IAT Mean</th>\n",
       "      <th>Flow IAT Std</th>\n",
       "      <th>Flow IAT Max</th>\n",
       "      <th>Flow IAT Min</th>\n",
       "      <th>...</th>\n",
       "      <th>Bwd IAT Max</th>\n",
       "      <th>Bwd IAT Min</th>\n",
       "      <th>Active Mean</th>\n",
       "      <th>Active Std</th>\n",
       "      <th>Active Max</th>\n",
       "      <th>Active Min</th>\n",
       "      <th>Idle Mean</th>\n",
       "      <th>Idle Std</th>\n",
       "      <th>Idle Max</th>\n",
       "      <th>Idle Min</th>\n",
       "    </tr>\n",
       "  </thead>\n",
       "  <tbody>\n",
       "    <tr>\n",
       "      <th>count</th>\n",
       "      <td>8044.000000</td>\n",
       "      <td>8044.000000</td>\n",
       "      <td>8044.0</td>\n",
       "      <td>8.044000e+03</td>\n",
       "      <td>8.044000e+03</td>\n",
       "      <td>8044.000000</td>\n",
       "      <td>8.044000e+03</td>\n",
       "      <td>8.044000e+03</td>\n",
       "      <td>8.044000e+03</td>\n",
       "      <td>8044.000000</td>\n",
       "      <td>...</td>\n",
       "      <td>8.044000e+03</td>\n",
       "      <td>8.044000e+03</td>\n",
       "      <td>8.044000e+03</td>\n",
       "      <td>8044.0</td>\n",
       "      <td>8.044000e+03</td>\n",
       "      <td>8.044000e+03</td>\n",
       "      <td>8.044000e+03</td>\n",
       "      <td>8044.0</td>\n",
       "      <td>8.044000e+03</td>\n",
       "      <td>8.044000e+03</td>\n",
       "    </tr>\n",
       "    <tr>\n",
       "      <th>mean</th>\n",
       "      <td>30505.505719</td>\n",
       "      <td>16767.761313</td>\n",
       "      <td>6.0</td>\n",
       "      <td>8.412146e+06</td>\n",
       "      <td>2.707062e+05</td>\n",
       "      <td>706.836422</td>\n",
       "      <td>1.017038e+05</td>\n",
       "      <td>2.436356e+05</td>\n",
       "      <td>1.214898e+06</td>\n",
       "      <td>65.375062</td>\n",
       "      <td>...</td>\n",
       "      <td>1.139737e+06</td>\n",
       "      <td>5.648311e+04</td>\n",
       "      <td>4.885837e+04</td>\n",
       "      <td>0.0</td>\n",
       "      <td>4.885837e+04</td>\n",
       "      <td>4.885837e+04</td>\n",
       "      <td>5.060547e+05</td>\n",
       "      <td>0.0</td>\n",
       "      <td>5.060547e+05</td>\n",
       "      <td>5.060547e+05</td>\n",
       "    </tr>\n",
       "    <tr>\n",
       "      <th>std</th>\n",
       "      <td>22904.243121</td>\n",
       "      <td>22545.613741</td>\n",
       "      <td>0.0</td>\n",
       "      <td>3.062480e+06</td>\n",
       "      <td>1.420024e+06</td>\n",
       "      <td>4391.154798</td>\n",
       "      <td>3.139844e+05</td>\n",
       "      <td>6.377622e+05</td>\n",
       "      <td>2.026831e+06</td>\n",
       "      <td>1766.055329</td>\n",
       "      <td>...</td>\n",
       "      <td>1.918480e+06</td>\n",
       "      <td>5.355551e+05</td>\n",
       "      <td>3.198387e+05</td>\n",
       "      <td>0.0</td>\n",
       "      <td>3.198387e+05</td>\n",
       "      <td>3.198387e+05</td>\n",
       "      <td>1.884005e+06</td>\n",
       "      <td>0.0</td>\n",
       "      <td>1.884005e+06</td>\n",
       "      <td>1.884005e+06</td>\n",
       "    </tr>\n",
       "    <tr>\n",
       "      <th>min</th>\n",
       "      <td>110.000000</td>\n",
       "      <td>110.000000</td>\n",
       "      <td>6.0</td>\n",
       "      <td>2.200000e+01</td>\n",
       "      <td>0.000000e+00</td>\n",
       "      <td>0.400114</td>\n",
       "      <td>2.200000e+01</td>\n",
       "      <td>0.000000e+00</td>\n",
       "      <td>2.200000e+01</td>\n",
       "      <td>-2255.000000</td>\n",
       "      <td>...</td>\n",
       "      <td>0.000000e+00</td>\n",
       "      <td>-3.270000e+02</td>\n",
       "      <td>0.000000e+00</td>\n",
       "      <td>0.0</td>\n",
       "      <td>0.000000e+00</td>\n",
       "      <td>0.000000e+00</td>\n",
       "      <td>0.000000e+00</td>\n",
       "      <td>0.0</td>\n",
       "      <td>0.000000e+00</td>\n",
       "      <td>0.000000e+00</td>\n",
       "    </tr>\n",
       "    <tr>\n",
       "      <th>25%</th>\n",
       "      <td>443.000000</td>\n",
       "      <td>443.000000</td>\n",
       "      <td>6.0</td>\n",
       "      <td>8.906492e+06</td>\n",
       "      <td>1.420822e+04</td>\n",
       "      <td>30.586932</td>\n",
       "      <td>4.444811e+03</td>\n",
       "      <td>1.386636e+04</td>\n",
       "      <td>9.602900e+04</td>\n",
       "      <td>0.000000</td>\n",
       "      <td>...</td>\n",
       "      <td>1.004742e+05</td>\n",
       "      <td>3.000000e+00</td>\n",
       "      <td>0.000000e+00</td>\n",
       "      <td>0.0</td>\n",
       "      <td>0.000000e+00</td>\n",
       "      <td>0.000000e+00</td>\n",
       "      <td>0.000000e+00</td>\n",
       "      <td>0.0</td>\n",
       "      <td>0.000000e+00</td>\n",
       "      <td>0.000000e+00</td>\n",
       "    </tr>\n",
       "    <tr>\n",
       "      <th>50%</th>\n",
       "      <td>38894.000000</td>\n",
       "      <td>443.000000</td>\n",
       "      <td>6.0</td>\n",
       "      <td>9.965426e+06</td>\n",
       "      <td>2.958675e+04</td>\n",
       "      <td>77.540582</td>\n",
       "      <td>1.291837e+04</td>\n",
       "      <td>2.271775e+04</td>\n",
       "      <td>2.264350e+05</td>\n",
       "      <td>8.000000</td>\n",
       "      <td>...</td>\n",
       "      <td>2.169705e+05</td>\n",
       "      <td>2.300000e+01</td>\n",
       "      <td>0.000000e+00</td>\n",
       "      <td>0.0</td>\n",
       "      <td>0.000000e+00</td>\n",
       "      <td>0.000000e+00</td>\n",
       "      <td>0.000000e+00</td>\n",
       "      <td>0.0</td>\n",
       "      <td>0.000000e+00</td>\n",
       "      <td>0.000000e+00</td>\n",
       "    </tr>\n",
       "    <tr>\n",
       "      <th>75%</th>\n",
       "      <td>51024.000000</td>\n",
       "      <td>41994.000000</td>\n",
       "      <td>6.0</td>\n",
       "      <td>9.989334e+06</td>\n",
       "      <td>1.687313e+05</td>\n",
       "      <td>225.119918</td>\n",
       "      <td>3.518860e+04</td>\n",
       "      <td>1.512991e+05</td>\n",
       "      <td>1.362727e+06</td>\n",
       "      <td>19.000000</td>\n",
       "      <td>...</td>\n",
       "      <td>1.223241e+06</td>\n",
       "      <td>1.890000e+02</td>\n",
       "      <td>0.000000e+00</td>\n",
       "      <td>0.0</td>\n",
       "      <td>0.000000e+00</td>\n",
       "      <td>0.000000e+00</td>\n",
       "      <td>0.000000e+00</td>\n",
       "      <td>0.0</td>\n",
       "      <td>0.000000e+00</td>\n",
       "      <td>0.000000e+00</td>\n",
       "    </tr>\n",
       "    <tr>\n",
       "      <th>max</th>\n",
       "      <td>60740.000000</td>\n",
       "      <td>59708.000000</td>\n",
       "      <td>6.0</td>\n",
       "      <td>1.000000e+07</td>\n",
       "      <td>2.710256e+07</td>\n",
       "      <td>90909.090909</td>\n",
       "      <td>3.332380e+06</td>\n",
       "      <td>5.771646e+06</td>\n",
       "      <td>9.996903e+06</td>\n",
       "      <td>127791.000000</td>\n",
       "      <td>...</td>\n",
       "      <td>9.996903e+06</td>\n",
       "      <td>9.996903e+06</td>\n",
       "      <td>4.823748e+06</td>\n",
       "      <td>0.0</td>\n",
       "      <td>4.823748e+06</td>\n",
       "      <td>4.823748e+06</td>\n",
       "      <td>9.996903e+06</td>\n",
       "      <td>0.0</td>\n",
       "      <td>9.996903e+06</td>\n",
       "      <td>9.996903e+06</td>\n",
       "    </tr>\n",
       "  </tbody>\n",
       "</table>\n",
       "<p>8 rows × 26 columns</p>\n",
       "</div>"
      ],
      "text/plain": [
       "        Source Port   Destination Port   Protocol   Flow Duration  \\\n",
       "count   8044.000000        8044.000000     8044.0    8.044000e+03   \n",
       "mean   30505.505719       16767.761313        6.0    8.412146e+06   \n",
       "std    22904.243121       22545.613741        0.0    3.062480e+06   \n",
       "min      110.000000         110.000000        6.0    2.200000e+01   \n",
       "25%      443.000000         443.000000        6.0    8.906492e+06   \n",
       "50%    38894.000000         443.000000        6.0    9.965426e+06   \n",
       "75%    51024.000000       41994.000000        6.0    9.989334e+06   \n",
       "max    60740.000000       59708.000000        6.0    1.000000e+07   \n",
       "\n",
       "        Flow Bytes/s   Flow Packets/s   Flow IAT Mean   Flow IAT Std  \\\n",
       "count   8.044000e+03      8044.000000    8.044000e+03   8.044000e+03   \n",
       "mean    2.707062e+05       706.836422    1.017038e+05   2.436356e+05   \n",
       "std     1.420024e+06      4391.154798    3.139844e+05   6.377622e+05   \n",
       "min     0.000000e+00         0.400114    2.200000e+01   0.000000e+00   \n",
       "25%     1.420822e+04        30.586932    4.444811e+03   1.386636e+04   \n",
       "50%     2.958675e+04        77.540582    1.291837e+04   2.271775e+04   \n",
       "75%     1.687313e+05       225.119918    3.518860e+04   1.512991e+05   \n",
       "max     2.710256e+07     90909.090909    3.332380e+06   5.771646e+06   \n",
       "\n",
       "        Flow IAT Max   Flow IAT Min  ...   Bwd IAT Max   Bwd IAT Min  \\\n",
       "count   8.044000e+03    8044.000000  ...  8.044000e+03  8.044000e+03   \n",
       "mean    1.214898e+06      65.375062  ...  1.139737e+06  5.648311e+04   \n",
       "std     2.026831e+06    1766.055329  ...  1.918480e+06  5.355551e+05   \n",
       "min     2.200000e+01   -2255.000000  ...  0.000000e+00 -3.270000e+02   \n",
       "25%     9.602900e+04       0.000000  ...  1.004742e+05  3.000000e+00   \n",
       "50%     2.264350e+05       8.000000  ...  2.169705e+05  2.300000e+01   \n",
       "75%     1.362727e+06      19.000000  ...  1.223241e+06  1.890000e+02   \n",
       "max     9.996903e+06  127791.000000  ...  9.996903e+06  9.996903e+06   \n",
       "\n",
       "        Active Mean   Active Std    Active Max    Active Min     Idle Mean  \\\n",
       "count  8.044000e+03       8044.0  8.044000e+03  8.044000e+03  8.044000e+03   \n",
       "mean   4.885837e+04          0.0  4.885837e+04  4.885837e+04  5.060547e+05   \n",
       "std    3.198387e+05          0.0  3.198387e+05  3.198387e+05  1.884005e+06   \n",
       "min    0.000000e+00          0.0  0.000000e+00  0.000000e+00  0.000000e+00   \n",
       "25%    0.000000e+00          0.0  0.000000e+00  0.000000e+00  0.000000e+00   \n",
       "50%    0.000000e+00          0.0  0.000000e+00  0.000000e+00  0.000000e+00   \n",
       "75%    0.000000e+00          0.0  0.000000e+00  0.000000e+00  0.000000e+00   \n",
       "max    4.823748e+06          0.0  4.823748e+06  4.823748e+06  9.996903e+06   \n",
       "\n",
       "        Idle Std      Idle Max      Idle Min  \n",
       "count     8044.0  8.044000e+03  8.044000e+03  \n",
       "mean         0.0  5.060547e+05  5.060547e+05  \n",
       "std          0.0  1.884005e+06  1.884005e+06  \n",
       "min          0.0  0.000000e+00  0.000000e+00  \n",
       "25%          0.0  0.000000e+00  0.000000e+00  \n",
       "50%          0.0  0.000000e+00  0.000000e+00  \n",
       "75%          0.0  0.000000e+00  0.000000e+00  \n",
       "max          0.0  9.996903e+06  9.996903e+06  \n",
       "\n",
       "[8 rows x 26 columns]"
      ]
     },
     "execution_count": 22,
     "metadata": {},
     "output_type": "execute_result"
    }
   ],
   "source": [
    "#Getting core statistics of all the columns using describe function of pandas\n",
    "all_data_matrix.describe()"
   ]
  },
  {
   "cell_type": "code",
   "execution_count": 23,
   "metadata": {
    "colab": {
     "base_uri": "https://localhost:8080/"
    },
    "id": "SyQ9YsUXtO4q",
    "outputId": "b9005852-3863-4c3a-9dee-10ac401feae5",
    "scrolled": true
   },
   "outputs": [
    {
     "data": {
      "text/plain": [
       "Index(['Source IP', ' Source Port', ' Destination IP', ' Destination Port',\n",
       "       ' Protocol', ' Flow Duration', ' Flow Bytes/s', ' Flow Packets/s',\n",
       "       ' Flow IAT Mean', ' Flow IAT Std', ' Flow IAT Max', ' Flow IAT Min',\n",
       "       'Fwd IAT Mean', ' Fwd IAT Std', ' Fwd IAT Max', ' Fwd IAT Min',\n",
       "       'Bwd IAT Mean', ' Bwd IAT Std', ' Bwd IAT Max', ' Bwd IAT Min',\n",
       "       'Active Mean', ' Active Std', ' Active Max', ' Active Min', 'Idle Mean',\n",
       "       ' Idle Std', ' Idle Max', ' Idle Min', 'label'],\n",
       "      dtype='object')"
      ]
     },
     "execution_count": 23,
     "metadata": {},
     "output_type": "execute_result"
    }
   ],
   "source": [
    "#printing all the columns in the data frame.\n",
    "all_data_matrix.columns"
   ]
  },
  {
   "cell_type": "markdown",
   "metadata": {
    "id": "ltnyR35trYUB"
   },
   "source": [
    "**Heatmap correlation plot**\n",
    "\n",
    "checking correlations is an important part of the exploratory data analysis process. This analysis is one of the methods used to decide which features affect the target variable the most, and in turn, get used in predicting this target variable. In other words, it’s a commonly-used method for feature selection in machine learning.\n",
    "And because visualization is generally easier to understand than reading tabular data, heatmaps are typically used to visualize correlation matrices. A simple way to plot a heatmap in Python is by importing and implementing the Seaborn library.\n"
   ]
  },
  {
   "cell_type": "code",
   "execution_count": 24,
   "metadata": {
    "colab": {
     "base_uri": "https://localhost:8080/",
     "height": 925
    },
    "id": "g42KBMyWu25u",
    "outputId": "2def6c85-2455-45fe-be46-4528640edc37"
   },
   "outputs": [
    {
     "data": {
      "text/plain": [
       "<matplotlib.axes._subplots.AxesSubplot at 0x2770868ab88>"
      ]
     },
     "execution_count": 24,
     "metadata": {},
     "output_type": "execute_result"
    },
    {
     "data": {
      "image/png": "[encoded data removed]",
      "text/plain": [
       "<Figure size 1296x1296 with 2 Axes>"
      ]
     },
     "metadata": {
      "needs_background": "light"
     },
     "output_type": "display_data"
    }
   ],
   "source": [
    "#using seaborn library to plot heatmap correlation between all the features\n",
    "f,ax = plt.subplots(figsize=(18, 18))\n",
    "sns.heatmap(all_data_matrix.corr(), annot=True, linewidths=.5, fmt= '.1f',ax=ax)"
   ]
  },
  {
   "cell_type": "code",
   "execution_count": 25,
   "metadata": {
    "colab": {
     "base_uri": "https://localhost:8080/"
    },
    "id": "OazgrvaB0Y-J",
    "outputId": "1dd3a8b9-34de-40ea-d3f4-1aea1d08645c"
   },
   "outputs": [
    {
     "name": "stdout",
     "output_type": "stream",
     "text": [
      "                    Source Port   Destination Port   Protocol   Flow Duration  \\\n",
      " Source Port           1.000000           0.938288        NaN        0.282381   \n",
      " Destination Port      0.938288           1.000000        NaN        0.248873   \n",
      " Protocol                   NaN                NaN        NaN             NaN   \n",
      " Flow Duration         0.282381           0.248873        NaN        1.000000   \n",
      " Flow Bytes/s          0.025242           0.023178        NaN        0.278393   \n",
      " Flow Packets/s        0.053518           0.043888        NaN        0.333635   \n",
      " Flow IAT Mean         0.181326           0.163119        NaN        0.066295   \n",
      " Flow IAT Std          0.212197           0.194627        NaN        0.054565   \n",
      " Flow IAT Max          0.304814           0.279444        NaN        0.010247   \n",
      " Flow IAT Min          0.000479           0.004516        NaN        0.085507   \n",
      "Fwd IAT Mean           0.173700           0.158631        NaN        0.070611   \n",
      " Fwd IAT Std           0.220794           0.201897        NaN        0.038009   \n",
      " Fwd IAT Max           0.305157           0.279963        NaN        0.010917   \n",
      " Fwd IAT Min           0.039767           0.038265        NaN        0.048924   \n",
      "Bwd IAT Mean           0.146004           0.134147        NaN        0.076706   \n",
      " Bwd IAT Std           0.197042           0.185806        NaN        0.032990   \n",
      " Bwd IAT Max           0.290218           0.267019        NaN        0.013988   \n",
      " Bwd IAT Min           0.049640           0.044717        NaN        0.062169   \n",
      "Active Mean            0.077775           0.076321        NaN        0.044067   \n",
      " Active Std                 NaN                NaN        NaN             NaN   \n",
      " Active Max            0.077775           0.076321        NaN        0.044067   \n",
      " Active Min            0.077775           0.076321        NaN        0.044067   \n",
      "Idle Mean              0.160267           0.150382        NaN        0.060608   \n",
      " Idle Std                   NaN                NaN        NaN             NaN   \n",
      " Idle Max              0.160267           0.150382        NaN        0.060608   \n",
      " Idle Min              0.160267           0.150382        NaN        0.060608   \n",
      "\n",
      "                    Flow Bytes/s   Flow Packets/s   Flow IAT Mean  \\\n",
      " Source Port            0.025242         0.053518        0.181326   \n",
      " Destination Port       0.023178         0.043888        0.163119   \n",
      " Protocol                    NaN              NaN             NaN   \n",
      " Flow Duration          0.278393         0.333635        0.066295   \n",
      " Flow Bytes/s           1.000000         0.931674        0.060495   \n",
      " Flow Packets/s         0.931674         1.000000        0.051383   \n",
      " Flow IAT Mean          0.060495         0.051383        1.000000   \n",
      " Flow IAT Std           0.070037         0.060178        0.962665   \n",
      " Flow IAT Max           0.095943         0.088832        0.652384   \n",
      " Flow IAT Min           0.002018         0.000754        0.005657   \n",
      "Fwd IAT Mean            0.058566         0.049767        0.955317   \n",
      " Fwd IAT Std            0.070233         0.060602        0.798867   \n",
      " Fwd IAT Max            0.096159         0.089130        0.651974   \n",
      " Fwd IAT Min            0.016481         0.013902        0.504701   \n",
      "Bwd IAT Mean            0.054899         0.046688        0.745460   \n",
      " Bwd IAT Std            0.068752         0.059500        0.510037   \n",
      " Bwd IAT Max            0.093797         0.087506        0.465604   \n",
      " Bwd IAT Min            0.020043         0.016916        0.538890   \n",
      "Active Mean             0.027979         0.024086        0.148994   \n",
      " Active Std                  NaN              NaN             NaN   \n",
      " Active Max             0.027979         0.024086        0.148994   \n",
      " Active Min             0.027979         0.024086        0.148994   \n",
      "Idle Mean               0.049656         0.042600        0.639211   \n",
      " Idle Std                    NaN              NaN             NaN   \n",
      " Idle Max               0.049656         0.042600        0.639211   \n",
      " Idle Min               0.049656         0.042600        0.639211   \n",
      "\n",
      "                    Flow IAT Std   Flow IAT Max   Flow IAT Min  ...  \\\n",
      " Source Port            0.212197       0.304814       0.000479  ...   \n",
      " Destination Port       0.194627       0.279444       0.004516  ...   \n",
      " Protocol                    NaN            NaN            NaN  ...   \n",
      " Flow Duration          0.054565       0.010247       0.085507  ...   \n",
      " Flow Bytes/s           0.070037       0.095943       0.002018  ...   \n",
      " Flow Packets/s         0.060178       0.088832       0.000754  ...   \n",
      " Flow IAT Mean          0.962665       0.652384       0.005657  ...   \n",
      " Flow IAT Std           1.000000       0.797643       0.002105  ...   \n",
      " Flow IAT Max           0.797643       1.000000       0.011036  ...   \n",
      " Flow IAT Min           0.002105       0.011036       1.000000  ...   \n",
      "Fwd IAT Mean            0.924736       0.632738       0.003560  ...   \n",
      " Fwd IAT Std            0.897576       0.807663       0.004578  ...   \n",
      " Fwd IAT Max            0.797378       0.999922       0.011193  ...   \n",
      " Fwd IAT Min            0.422900       0.207108       0.008196  ...   \n",
      "Bwd IAT Mean            0.749428       0.543003       0.001060  ...   \n",
      " Bwd IAT Std            0.673570       0.722151       0.004918  ...   \n",
      " Bwd IAT Max            0.636017       0.929159       0.012297  ...   \n",
      " Bwd IAT Min            0.461369       0.237193       0.003965  ...   \n",
      "Active Mean             0.238629       0.389759       0.003000  ...   \n",
      " Active Std                  NaN            NaN            NaN  ...   \n",
      " Active Max             0.238629       0.389759       0.003000  ...   \n",
      " Active Min             0.238629       0.389759       0.003000  ...   \n",
      "Idle Mean               0.771956       0.835581       0.002889  ...   \n",
      " Idle Std                    NaN            NaN            NaN  ...   \n",
      " Idle Max               0.771956       0.835581       0.002889  ...   \n",
      " Idle Min               0.771956       0.835581       0.002889  ...   \n",
      "\n",
      "                    Bwd IAT Max   Bwd IAT Min  Active Mean   Active Std  \\\n",
      " Source Port           0.290218      0.049640     0.077775          NaN   \n",
      " Destination Port      0.267019      0.044717     0.076321          NaN   \n",
      " Protocol                   NaN           NaN          NaN          NaN   \n",
      " Flow Duration         0.013988      0.062169     0.044067          NaN   \n",
      " Flow Bytes/s          0.093797      0.020043     0.027979          NaN   \n",
      " Flow Packets/s        0.087506      0.016916     0.024086          NaN   \n",
      " Flow IAT Mean         0.465604      0.538890     0.148994          NaN   \n",
      " Flow IAT Std          0.636017      0.461369     0.238629          NaN   \n",
      " Flow IAT Max          0.929159      0.237193     0.389759          NaN   \n",
      " Flow IAT Min          0.012297      0.003965     0.003000          NaN   \n",
      "Fwd IAT Mean           0.514295      0.667740     0.143559          NaN   \n",
      " Fwd IAT Std           0.646149      0.102562     0.274579          NaN   \n",
      " Fwd IAT Max           0.929094      0.236767     0.389784          NaN   \n",
      " Fwd IAT Min           0.222008      0.838588     0.000864          NaN   \n",
      "Bwd IAT Mean           0.578068      0.805499     0.166445          NaN   \n",
      " Bwd IAT Std           0.773071      0.009994     0.348177          NaN   \n",
      " Bwd IAT Max           1.000000      0.250388     0.417940          NaN   \n",
      " Bwd IAT Min           0.250388      1.000000     0.005007          NaN   \n",
      "Active Mean            0.417940      0.005007     1.000000          NaN   \n",
      " Active Std                 NaN           NaN          NaN          NaN   \n",
      " Active Max            0.417940      0.005007     1.000000          NaN   \n",
      " Active Min            0.417940      0.005007     1.000000          NaN   \n",
      "Idle Mean              0.739177      0.256850     0.476788          NaN   \n",
      " Idle Std                   NaN           NaN          NaN          NaN   \n",
      " Idle Max              0.739177      0.256850     0.476788          NaN   \n",
      " Idle Min              0.739177      0.256850     0.476788          NaN   \n",
      "\n",
      "                    Active Max   Active Min  Idle Mean   Idle Std   Idle Max  \\\n",
      " Source Port          0.077775     0.077775   0.160267        NaN   0.160267   \n",
      " Destination Port     0.076321     0.076321   0.150382        NaN   0.150382   \n",
      " Protocol                  NaN          NaN        NaN        NaN        NaN   \n",
      " Flow Duration        0.044067     0.044067   0.060608        NaN   0.060608   \n",
      " Flow Bytes/s         0.027979     0.027979   0.049656        NaN   0.049656   \n",
      " Flow Packets/s       0.024086     0.024086   0.042600        NaN   0.042600   \n",
      " Flow IAT Mean        0.148994     0.148994   0.639211        NaN   0.639211   \n",
      " Flow IAT Std         0.238629     0.238629   0.771956        NaN   0.771956   \n",
      " Flow IAT Max         0.389759     0.389759   0.835581        NaN   0.835581   \n",
      " Flow IAT Min         0.003000     0.003000   0.002889        NaN   0.002889   \n",
      "Fwd IAT Mean          0.143559     0.143559   0.623737        NaN   0.623737   \n",
      " Fwd IAT Std          0.274579     0.274579   0.768345        NaN   0.768345   \n",
      " Fwd IAT Max          0.389784     0.389784   0.835675        NaN   0.835675   \n",
      " Fwd IAT Min          0.000864     0.000864   0.234496        NaN   0.234496   \n",
      "Bwd IAT Mean          0.166445     0.166445   0.512905        NaN   0.512905   \n",
      " Bwd IAT Std          0.348177     0.348177   0.649880        NaN   0.649880   \n",
      " Bwd IAT Max          0.417940     0.417940   0.739177        NaN   0.739177   \n",
      " Bwd IAT Min          0.005007     0.005007   0.256850        NaN   0.256850   \n",
      "Active Mean           1.000000     1.000000   0.476788        NaN   0.476788   \n",
      " Active Std                NaN          NaN        NaN        NaN        NaN   \n",
      " Active Max           1.000000     1.000000   0.476788        NaN   0.476788   \n",
      " Active Min           1.000000     1.000000   0.476788        NaN   0.476788   \n",
      "Idle Mean             0.476788     0.476788   1.000000        NaN   1.000000   \n",
      " Idle Std                  NaN          NaN        NaN        NaN        NaN   \n",
      " Idle Max             0.476788     0.476788   1.000000        NaN   1.000000   \n",
      " Idle Min             0.476788     0.476788   1.000000        NaN   1.000000   \n",
      "\n",
      "                    Idle Min  \n",
      " Source Port        0.160267  \n",
      " Destination Port   0.150382  \n",
      " Protocol                NaN  \n",
      " Flow Duration      0.060608  \n",
      " Flow Bytes/s       0.049656  \n",
      " Flow Packets/s     0.042600  \n",
      " Flow IAT Mean      0.639211  \n",
      " Flow IAT Std       0.771956  \n",
      " Flow IAT Max       0.835581  \n",
      " Flow IAT Min       0.002889  \n",
      "Fwd IAT Mean        0.623737  \n",
      " Fwd IAT Std        0.768345  \n",
      " Fwd IAT Max        0.835675  \n",
      " Fwd IAT Min        0.234496  \n",
      "Bwd IAT Mean        0.512905  \n",
      " Bwd IAT Std        0.649880  \n",
      " Bwd IAT Max        0.739177  \n",
      " Bwd IAT Min        0.256850  \n",
      "Active Mean         0.476788  \n",
      " Active Std              NaN  \n",
      " Active Max         0.476788  \n",
      " Active Min         0.476788  \n",
      "Idle Mean           1.000000  \n",
      " Idle Std                NaN  \n",
      " Idle Max           1.000000  \n",
      " Idle Min           1.000000  \n",
      "\n",
      "[26 rows x 26 columns]\n"
     ]
    }
   ],
   "source": [
    "#So now we are creating a square matrix with dimensions equal to the number of features. In which we will have the elements as the absolute value of correlation between the features.\n",
    "x=all_data_matrix.drop(columns=\"label\")\n",
    "y=all_data_matrix['label']\n",
    "cor_matrix = x.corr().abs()\n",
    "print(cor_matrix)"
   ]
  },
  {
   "cell_type": "markdown",
   "metadata": {
    "id": "VnSa0kX4u2Ua"
   },
   "source": [
    "**Correlation matrix will be mirror image about the diagonal and all the diagonal elements will be 1. So, It does not matter that we select the upper triangular or lower triangular part of the correlation matrix but we should not include the diagonal elements. So we are selecting the upper traingular.**"
   ]
  },
  {
   "cell_type": "markdown",
   "metadata": {},
   "source": [
    "# Our Approach - using NMSLIB"
   ]
  },
  {
   "cell_type": "markdown",
   "metadata": {
    "id": "YHs9VS5FutZa"
   },
   "source": [
    "**NMSLIB**\n",
    "\n",
    "Non-Metric Space Library (**NMSLIB**) is an efficient cross-platform similarity search library and a toolkit for evaluation of similarity search methods. The core-library does not have any third-party dependencies.\n",
    "Gensim’s native Similarity for finding the k nearest neighbors to a vector uses brute force and has linear complexity, albeit with extremely low constant factors.\n",
    "\n",
    "The retrieved results are exact, which is an overkill in many applications: approximate results retrieved in sub-linear time may be enough.\n",
    "\n",
    "NMSLIB can find approximate nearest neighbors much faster, similar to Spotify’s Annoy library. Compared to Annoy, NMSLIB has more parameters to control the build and query time and accuracy. NMSLIB often achieves faster and more accurate nearest neighbors search than Annoy."
   ]
  },
  {
   "cell_type": "code",
   "execution_count": 26,
   "metadata": {
    "colab": {
     "base_uri": "https://localhost:8080/"
    },
    "id": "zdfz5IPK4V_T",
    "outputId": "da22bb9a-4a1b-4817-e506-65a42d48311e"
   },
   "outputs": [
    {
     "name": "stdout",
     "output_type": "stream",
     "text": [
      "Requirement already satisfied: nmslib in c:\\users\\naor\\anaconda3\\lib\\site-packages (2.1.1)\n",
      "Requirement already satisfied: numpy>=1.10.0; python_version >= \"3.5\" in c:\\users\\naor\\anaconda3\\lib\\site-packages (from nmslib) (1.18.1)\n",
      "Requirement already satisfied: pybind11<2.6.2 in c:\\users\\naor\\anaconda3\\lib\\site-packages (from nmslib) (2.6.1)\n",
      "Requirement already satisfied: psutil in c:\\users\\naor\\anaconda3\\lib\\site-packages (from nmslib) (5.6.7)\n"
     ]
    }
   ],
   "source": [
    "#installing nmslib module using pip command\n",
    "!pip install nmslib"
   ]
  },
  {
   "cell_type": "code",
   "execution_count": 27,
   "metadata": {
    "id": "OR0Ug4CHimQ4"
   },
   "outputs": [],
   "source": [
    "import nmslib \n",
    "import numpy \n",
    "import sys \n",
    "import time \n",
    "import math\n",
    "from sklearn import preprocessing\n",
    "from sklearn.model_selection import train_test_split\n",
    "\n",
    "#reading our csv file and storing it in variable dt\n",
    "dt = pd.read_csv(\"TimeBasedFeatures-10s-Layer2 (1).csv\")\n",
    "all_data_matrix=x\n",
    "df = all_data_matrix.drop('Source IP', axis=1)\n"
   ]
  },
  {
   "cell_type": "markdown",
   "metadata": {
    "id": "jdYU1NRP2Q3k"
   },
   "source": [
    "**Label Encoder**\n",
    "\n",
    "To convert categorical text data into model-understandable numerical data, we use the Label Encoder class. So all we have to do, to label encode the first column, is import the LabelEncoder class from the sklearn library, fit and transform the first column of the data, and then replace the existing text data with the new encoded data."
   ]
  },
  {
   "cell_type": "code",
   "execution_count": 28,
   "metadata": {
    "colab": {
     "base_uri": "https://localhost:8080/"
    },
    "id": "EP4dnAtp7cYU",
    "outputId": "65312885-7f23-4de9-d080-b94244fc187a"
   },
   "outputs": [
    {
     "name": "stdout",
     "output_type": "stream",
     "text": [
      "all data matrix shape after\n",
      "(8044, 28)\n"
     ]
    }
   ],
   "source": [
    "#Encode target labels with value between 0 and n_classes.\n",
    "df['label']=dt['label']\n",
    "df = df.drop(' Destination IP', axis=1)\n",
    "print(\"all data matrix shape after\")\n",
    "print(all_data_matrix.shape)\n",
    "# Encode label to numbers\n",
    "le = preprocessing.LabelEncoder()\n",
    "le.fit(df.label)\n",
    "df['label'] = le.transform(df.label)\n",
    "all_data_matrix = df.to_numpy()\n",
    "\n"
   ]
  },
  {
   "cell_type": "markdown",
   "metadata": {
    "id": "nFydXbO-4mm0"
   },
   "source": [
    "**Test_train_split of data**\n",
    "\n",
    "Using the same dataset for both training and testing leaves room for miscalculations, thus increases the chances of inaccurate predictions.\n",
    "\n",
    "The train_test_split function allows you to break a dataset with ease while pursuing an ideal model. Also, keep in mind that your model should not be overfitting or underfitting."
   ]
  },
  {
   "cell_type": "code",
   "execution_count": 30,
   "metadata": {
    "colab": {
     "base_uri": "https://localhost:8080/"
    },
    "id": "gMXVkBMlzlTL",
    "outputId": "02148a2c-8229-43d1-8687-f134768b4aa8"
   },
   "outputs": [
    {
     "name": "stdout",
     "output_type": "stream",
     "text": [
      "(6435, 27)\n",
      "(1609, 27)\n"
     ]
    }
   ],
   "source": [
    "(data_matrix_train, query_matrix) = train_test_split(all_data_matrix, test_size = 0.2)\n",
    "#printing shape of testing data\n",
    "print(data_matrix_train.shape)\n",
    "#printing shape of training data\n",
    "print(query_matrix.shape)\n",
    "\n",
    "\n",
    "\n"
   ]
  },
  {
   "cell_type": "markdown",
   "metadata": {
    "id": "hqleACpk3pRb"
   },
   "source": [
    "**nmslib.init**\n",
    "\n",
    "This function acts act the main entry point into NMS lib. This function should be called first before calling any other method\n",
    "\n",
    "This function initializes a new NMSLIB index\n",
    "\n",
    "**hyperParameters used**:\t\n",
    "\n",
    "**space (str optional)** – The metric space to create for this index\n",
    "\n",
    "**space_params (dict optional)** – Parameters for configuring the space\n",
    "\n",
    "**method (str optional)** – The index method to use\n",
    "\n",
    "**data_type (nmslib.DataType optional)** – The type of data to index (dense/sparse/string vectors)\n",
    "\n",
    "**dist_type (nmslib.DistType optional)** – The type of index to create (float/double/int)\n",
    "\n",
    "Returns:\t\n",
    "**Return type**:\tA new NMSLIB Index."
   ]
  },
  {
   "cell_type": "code",
   "execution_count": 31,
   "metadata": {
    "id": "pIDToM9t3K2j"
   },
   "outputs": [
    {
     "data": {
      "text/plain": [
       "6435"
      ]
     },
     "execution_count": 31,
     "metadata": {},
     "output_type": "execute_result"
    }
   ],
   "source": [
    "\n",
    "# We are setting index parameters.\n",
    "NN = 40 # neighbours \n",
    "efC = 100 #the depth of the search \n",
    "num_threads = 4\n",
    "index_time_params = {'NN': NN, 'indexThreadQty': num_threads, 'efConstruction': efC}\n",
    "\n",
    "#Initialising number of neighbours\n",
    "K=100\n",
    "\n",
    "# Space name should correspond to the space name\n",
    "space_name='kldivgenfast'\n",
    "\n",
    "# Intitialize the library, specify the space, the type of the vector and add data points\n",
    "index = nmslib.init(method='sw-graph', space=space_name, data_type=nmslib.DataType.DENSE_VECTOR)\n",
    "index.addDataPointBatch(data_matrix_train)\n",
    "\n"
   ]
  },
  {
   "cell_type": "markdown",
   "metadata": {
    "id": "4eNuPt0J6kas"
   },
   "source": [
    "**create index nmslib**\n",
    "\n",
    "Creates the index, and makes it available for querying\n",
    "\n",
    "**hyperParameters**:\n",
    "\n",
    "**index_params (dict optional)** – Dictionary of optional parameters to use in indexing\n",
    "\n",
    "**print_progress (bool optional)** – Whether or not to display progress bar when creating index"
   ]
  },
  {
   "cell_type": "code",
   "execution_count": 32,
   "metadata": {
    "colab": {
     "base_uri": "https://localhost:8080/"
    },
    "id": "vyibzvU0zpda",
    "outputId": "c8ea9450-c8e3-4407-9af2-bb959b6f8735"
   },
   "outputs": [
    {
     "name": "stdout",
     "output_type": "stream",
     "text": [
      "Index-time parameters {'NN': 40, 'indexThreadQty': 4, 'efConstruction': 100}\n",
      "Indexing time = 0.256904\n",
      "Setting query-time parameters {'efSearch': 1500}\n"
     ]
    }
   ],
   "source": [
    "\n",
    "# Create an index\n",
    "start = time.time()\n",
    "index.createIndex(index_time_params)\n",
    "end = time.time()\n",
    "print('Index-time parameters', index_time_params)\n",
    "print('Indexing time = %f' % (end-start))\n",
    "\n",
    "# We are setting query-time parameters\n",
    "efS = 1500\n",
    "query_time_params = {'efSearch': efS}\n",
    "print('Setting query-time parameters', query_time_params)\n",
    "index.setQueryTimeParams(query_time_params)\n"
   ]
  },
  {
   "cell_type": "code",
   "execution_count": 33,
   "metadata": {
    "colab": {
     "base_uri": "https://localhost:8080/"
    },
    "id": "kPMj_-Vhzsb6",
    "outputId": "eb908dbe-dfa2-4aa6-9340-5a12269b6a53"
   },
   "outputs": [
    {
     "name": "stdout",
     "output_type": "stream",
     "text": [
      "kNN time total=0.587423 (sec), per query=0.000365 (sec), per query adjusted for thread number=0.001460 (sec)\n"
     ]
    }
   ],
   "source": [
    "\n",
    "# Querying\n",
    "query_qty = query_matrix.shape[0]\n",
    "start = time.time()\n",
    "nbrs = index.knnQueryBatch(query_matrix, k = K, num_threads = num_threads)\n",
    "end = time.time()\n",
    "print('kNN time total=%f (sec), per query=%f (sec), per query adjusted for thread number=%f (sec)' %(end-start, float(end-start)/query_qty, num_threads*float(end-start)/query_qty))\n"
   ]
  },
  {
   "cell_type": "code",
   "execution_count": 34,
   "metadata": {
    "colab": {
     "base_uri": "https://localhost:8080/"
    },
    "id": "o5YDhw6Pzwsa",
    "outputId": "f2dfbf73-9fcb-4095-8c3e-fc746d7f8c40"
   },
   "outputs": [
    {
     "name": "stdout",
     "output_type": "stream",
     "text": [
      "Computing gold-standard data\n"
     ]
    },
    {
     "name": "stderr",
     "output_type": "stream",
     "text": [
      "C:\\Users\\Naor\\anaconda3\\lib\\site-packages\\ipykernel_launcher.py:11: RuntimeWarning: divide by zero encountered in true_divide\n",
      "  # This is added back by InteractiveShellApp.init_path()\n",
      "C:\\Users\\Naor\\anaconda3\\lib\\site-packages\\ipykernel_launcher.py:11: RuntimeWarning: invalid value encountered in multiply\n",
      "  # This is added back by InteractiveShellApp.init_path()\n",
      "C:\\Users\\Naor\\anaconda3\\lib\\site-packages\\ipykernel_launcher.py:11: RuntimeWarning: divide by zero encountered in log\n",
      "  # This is added back by InteractiveShellApp.init_path()\n",
      "C:\\Users\\Naor\\anaconda3\\lib\\site-packages\\ipykernel_launcher.py:11: RuntimeWarning: invalid value encountered in log\n",
      "  # This is added back by InteractiveShellApp.init_path()\n",
      "C:\\Users\\Naor\\anaconda3\\lib\\site-packages\\ipykernel_launcher.py:12: RuntimeWarning: invalid value encountered in multiply\n",
      "  if sys.path[0] == '':\n"
     ]
    },
    {
     "name": "stdout",
     "output_type": "stream",
     "text": [
      "brute-force kNN time total=8.030115 (sec), per query=0.004991 (sec)\n"
     ]
    }
   ],
   "source": [
    "\n",
    "# Computing gold-standard data\n",
    "print('Computing gold-standard data')\n",
    "start = time.time()\n",
    "gs = []\n",
    "\n",
    "query_qty = query_matrix.shape[0]\n",
    "data_qty = data_matrix_train.shape[0]\n",
    "\n",
    "for i in range(query_qty):\n",
    "    q = query_matrix[i, :]\n",
    "    d = numpy.log(data_matrix_train * (1.0 / q))\n",
    "    dist_vals = numpy.sum(data_matrix_train * d, axis=1)\n",
    "    tmp = [(dist_vals[i], i) for i in range(data_qty)]\n",
    "    tmp.sort()\n",
    "    gs.append([tmp[i][1] for i in range(K)])\n",
    "\n",
    "end = time.time()\n",
    "\n",
    "print('brute-force kNN time total=%f (sec), per query=%f (sec)' %(end - start, float(end - start) / query_qty))\n",
    "\n"
   ]
  },
  {
   "cell_type": "markdown",
   "metadata": {
    "id": "ireohoFi7QDc"
   },
   "source": [
    "**Recall**\n",
    "\n",
    "Recall attempts to answer the following question:\n",
    "\n",
    "What proportion of actual positives was identified correctly?\n",
    "in our case we have 6 classes so we will find the recall percentage for 6 classes"
   ]
  },
  {
   "cell_type": "code",
   "execution_count": 35,
   "metadata": {
    "colab": {
     "base_uri": "https://localhost:8080/"
    },
    "id": "F-SP0e7F0Frq",
    "outputId": "b43187b4-6ce4-4d23-b685-16f387258524"
   },
   "outputs": [
    {
     "name": "stdout",
     "output_type": "stream",
     "text": [
      "kNN recall 0.015531\n"
     ]
    }
   ],
   "source": [
    "\n",
    "# Finally computing recall\n",
    "recall=0.0\n",
    "for i in range(0, query_qty):\n",
    "  correct_set = set(gs[i])\n",
    "  ret_set = set(nbrs[i][0])\n",
    "  recall = recall + float(len(correct_set.intersection(ret_set))) / len(correct_set)\n",
    "recall = recall / query_qty\n",
    "print('kNN recall %f' % recall)\n"
   ]
  },
  {
   "cell_type": "code",
   "execution_count": 36,
   "metadata": {
    "colab": {
     "base_uri": "https://localhost:8080/"
    },
    "id": "HrOQ_Sk80GRa",
    "outputId": "449a0188-94e4-45ab-f8aa-6f31ff0c9fbc"
   },
   "outputs": [
    {
     "name": "stdout",
     "output_type": "stream",
     "text": [
      "Setting query-time parameters {'efSearch': 1500}\n",
      "kNN time total=2.424872 (sec), per query=0.001507 (sec), per query adjusted for thread number=0.006028 (sec)\n"
     ]
    }
   ],
   "source": [
    "\n",
    "# Save a meta index and the data\n",
    "index.saveIndex('dense_index_kldiv.txt', save_data=True)\n",
    "\n",
    "# Re-intitialize the library, specify the space, the type of the vector.\n",
    "newIndex = nmslib.init(method='sw-graph', space=space_name, data_type=nmslib.DataType.DENSE_VECTOR)\n",
    "\n",
    "# Re-load the index and the data\n",
    "newIndex.loadIndex('dense_index_kldiv.txt', load_data=True)\n",
    "\n",
    "# Setting query-time parameters and querying\n",
    "print('Setting query-time parameters', query_time_params)\n",
    "newIndex.setQueryTimeParams(query_time_params)\n",
    "\n",
    "K = 500000000\n",
    "query_qty = query_matrix.shape[0]\n",
    "start = time.time()\n",
    "new_nbrs = newIndex.knnQueryBatch(query_matrix, k = K, num_threads = 1)\n",
    "end = time.time()\n",
    "print('kNN time total=%f (sec), per query=%f (sec), per query adjusted for thread number=%f (sec)' \n",
    "      %(end-start, float(end-start)/query_qty, num_threads*float(end-start)/query_qty))\n"
   ]
  },
  {
   "cell_type": "code",
   "execution_count": 37,
   "metadata": {
    "colab": {
     "base_uri": "https://localhost:8080/"
    },
    "id": "Hui_tQ5t0Kpi",
    "outputId": "57f84666-9b54-4024-f4bc-d3305630922e"
   },
   "outputs": [
    {
     "name": "stdout",
     "output_type": "stream",
     "text": [
      "\n",
      "Final Value of Recall : 0.933120\n",
      "DONE\n"
     ]
    }
   ],
   "source": [
    "\n",
    "# Finally computing recall\n",
    "recall=0.0\n",
    "for i in range(0, query_qty):\n",
    "    correct_set = set(gs[i])\n",
    "    ret_set = set(new_nbrs[i][0])\n",
    "    recall = recall + float(len(correct_set.intersection(ret_set))) / len(correct_set)\n",
    "recall = recall / query_qty\n",
    "print()\n",
    "print('Final Value of Recall : %f' % recall)\n",
    "print(\"DONE\")"
   ]
  },
  {
   "cell_type": "code",
   "execution_count": null,
   "metadata": {},
   "outputs": [],
   "source": []
  }
 ],
 "metadata": {
  "colab": {
   "collapsed_sections": [],
   "name": "TOR_clasification.ipynb",
   "provenance": []
  },
  "kernelspec": {
   "display_name": "Python 3",
   "language": "python",
   "name": "python3"
  },
  "language_info": {
   "codemirror_mode": {
    "name": "ipython",
    "version": 3
   },
   "file_extension": ".py",
   "mimetype": "text/x-python",
   "name": "python",
   "nbconvert_exporter": "python",
   "pygments_lexer": "ipython3",
   "version": "3.7.6"
  }
 },
 "nbformat": 4,
 "nbformat_minor": 1
}
